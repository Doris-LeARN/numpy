{
 "cells": [
  {
   "cell_type": "code",
   "execution_count": 27,
   "id": "bed12bda",
   "metadata": {},
   "outputs": [],
   "source": [
    "import numpy as np\n",
    "import matplotlib.pyplot as plt"
   ]
  },
  {
   "cell_type": "code",
   "execution_count": 3,
   "id": "b91a0287",
   "metadata": {},
   "outputs": [
    {
     "data": {
      "text/plain": [
       "array([2, 5, 6, 8])"
      ]
     },
     "execution_count": 3,
     "metadata": {},
     "output_type": "execute_result"
    }
   ],
   "source": [
    "my_array=np.array([2,5,6,8])\n",
    "my_array"
   ]
  },
  {
   "cell_type": "code",
   "execution_count": 4,
   "id": "d523ae81",
   "metadata": {},
   "outputs": [
    {
     "data": {
      "text/plain": [
       "array(['elo', 'marx', 'abello'], dtype='<U6')"
      ]
     },
     "execution_count": 4,
     "metadata": {},
     "output_type": "execute_result"
    }
   ],
   "source": [
    "my_array1=np.array([\"elo\",\"marx\",\"abello\"])\n",
    "my_array1"
   ]
  },
  {
   "cell_type": "code",
   "execution_count": 5,
   "id": "9d5d3e38",
   "metadata": {},
   "outputs": [
    {
     "data": {
      "text/plain": [
       "dtype('int64')"
      ]
     },
     "execution_count": 5,
     "metadata": {},
     "output_type": "execute_result"
    }
   ],
   "source": [
    "my_array.dtype"
   ]
  },
  {
   "cell_type": "code",
   "execution_count": 6,
   "id": "bec27baa",
   "metadata": {},
   "outputs": [
    {
     "data": {
      "text/plain": [
       "dtype('<U6')"
      ]
     },
     "execution_count": 6,
     "metadata": {},
     "output_type": "execute_result"
    }
   ],
   "source": [
    "my_array1.dtype"
   ]
  },
  {
   "cell_type": "code",
   "execution_count": 7,
   "id": "26233a9d",
   "metadata": {},
   "outputs": [],
   "source": [
    "my_list=[\"elo\",\"marx\",\"abello\"]"
   ]
  },
  {
   "cell_type": "code",
   "execution_count": 8,
   "id": "72631421",
   "metadata": {},
   "outputs": [
    {
     "data": {
      "text/plain": [
       "array(['elo', 'marx', 'abello'], dtype='<U6')"
      ]
     },
     "execution_count": 8,
     "metadata": {},
     "output_type": "execute_result"
    }
   ],
   "source": [
    "my_second_array=np.array(my_list)\n",
    "my_second_array"
   ]
  },
  {
   "cell_type": "code",
   "execution_count": 9,
   "id": "a74e511c",
   "metadata": {},
   "outputs": [
    {
     "data": {
      "text/plain": [
       "array([ 2,  5,  6,  8, 10,  8])"
      ]
     },
     "execution_count": 9,
     "metadata": {},
     "output_type": "execute_result"
    }
   ],
   "source": [
    "extended_array=np.append(my_array,[10,8])\n",
    "extended_array"
   ]
  },
  {
   "cell_type": "code",
   "execution_count": 10,
   "id": "21344be3",
   "metadata": {},
   "outputs": [
    {
     "data": {
      "text/plain": [
       "array([ 2,  5,  6,  8,  8, 10])"
      ]
     },
     "execution_count": 10,
     "metadata": {},
     "output_type": "execute_result"
    }
   ],
   "source": [
    "sorted_array=np.sort(extended_array)\n",
    "sorted_array"
   ]
  },
  {
   "cell_type": "code",
   "execution_count": 11,
   "id": "a47c2ed6",
   "metadata": {},
   "outputs": [
    {
     "data": {
      "text/plain": [
       "array([ 8, 10,  8,  6,  5,  2])"
      ]
     },
     "execution_count": 11,
     "metadata": {},
     "output_type": "execute_result"
    }
   ],
   "source": [
    "ds_array=np.flip(extended_array)\n",
    "ds_array"
   ]
  },
  {
   "cell_type": "code",
   "execution_count": 12,
   "id": "60ef0bbe",
   "metadata": {},
   "outputs": [
    {
     "data": {
      "text/plain": [
       "array([2, 4, 6, 8])"
      ]
     },
     "execution_count": 12,
     "metadata": {},
     "output_type": "execute_result"
    }
   ],
   "source": [
    "seq=np.arange(2,10,2)\n",
    "seq"
   ]
  },
  {
   "cell_type": "code",
   "execution_count": 13,
   "id": "4f54d6f5",
   "metadata": {},
   "outputs": [
    {
     "data": {
      "text/plain": [
       "array([ 2.,  6., 10.])"
      ]
     },
     "execution_count": 13,
     "metadata": {},
     "output_type": "execute_result"
    }
   ],
   "source": [
    "seq2=np.linspace(2,10,3)\n",
    "seq2"
   ]
  },
  {
   "cell_type": "code",
   "execution_count": 14,
   "id": "05a79c8d",
   "metadata": {},
   "outputs": [
    {
     "data": {
      "text/plain": [
       "array([ 2,  5,  6,  8, 10,  8])"
      ]
     },
     "execution_count": 14,
     "metadata": {},
     "output_type": "execute_result"
    }
   ],
   "source": [
    "extended_array"
   ]
  },
  {
   "cell_type": "code",
   "execution_count": 15,
   "id": "61b3ca27",
   "metadata": {},
   "outputs": [
    {
     "data": {
      "text/plain": [
       "array([ 2,  5,  6,  8,  8, 10])"
      ]
     },
     "execution_count": 15,
     "metadata": {},
     "output_type": "execute_result"
    }
   ],
   "source": [
    "descending_array=np.sort(extended_array)\n",
    "descending_array"
   ]
  },
  {
   "cell_type": "code",
   "execution_count": 16,
   "id": "1b7136a4",
   "metadata": {},
   "outputs": [
    {
     "data": {
      "text/plain": [
       "array([10,  8,  8,  6,  5])"
      ]
     },
     "execution_count": 16,
     "metadata": {},
     "output_type": "execute_result"
    }
   ],
   "source": [
    "descending_array=np.sort(extended_array)[:0:-1]\n",
    "descending_array"
   ]
  },
  {
   "cell_type": "code",
   "execution_count": 17,
   "id": "8e7e09e2",
   "metadata": {},
   "outputs": [
    {
     "data": {
      "text/plain": [
       "array([5, 8, 8])"
      ]
     },
     "execution_count": 17,
     "metadata": {},
     "output_type": "execute_result"
    }
   ],
   "source": [
    "extended_array[1::2]"
   ]
  },
  {
   "cell_type": "code",
   "execution_count": 18,
   "id": "8df6b403",
   "metadata": {},
   "outputs": [
    {
     "data": {
      "text/plain": [
       "array([2, 5, 6, 8])"
      ]
     },
     "execution_count": 18,
     "metadata": {},
     "output_type": "execute_result"
    }
   ],
   "source": [
    "my_array"
   ]
  },
  {
   "cell_type": "code",
   "execution_count": 19,
   "id": "9317ccea",
   "metadata": {},
   "outputs": [
    {
     "data": {
      "text/plain": [
       "array([16, 20,  5,  1])"
      ]
     },
     "execution_count": 19,
     "metadata": {},
     "output_type": "execute_result"
    }
   ],
   "source": [
    "\n",
    "my_second_array=np.array([16,20,5,1])\n",
    "my_second_array"
   ]
  },
  {
   "cell_type": "code",
   "execution_count": 20,
   "id": "3cb6089b",
   "metadata": {},
   "outputs": [
    {
     "data": {
      "text/plain": [
       "array([18, 22,  7,  3])"
      ]
     },
     "execution_count": 20,
     "metadata": {},
     "output_type": "execute_result"
    }
   ],
   "source": [
    "my_second_array+2"
   ]
  },
  {
   "cell_type": "code",
   "execution_count": 21,
   "id": "9391161d",
   "metadata": {},
   "outputs": [
    {
     "data": {
      "text/plain": [
       "array([32, 40, 10,  2])"
      ]
     },
     "execution_count": 21,
     "metadata": {},
     "output_type": "execute_result"
    }
   ],
   "source": [
    "my_second_array*2"
   ]
  },
  {
   "cell_type": "code",
   "execution_count": 22,
   "id": "c6172fc1",
   "metadata": {},
   "outputs": [
    {
     "data": {
      "text/plain": [
       "array([2, 5, 6, 8])"
      ]
     },
     "execution_count": 22,
     "metadata": {},
     "output_type": "execute_result"
    }
   ],
   "source": [
    "my_array"
   ]
  },
  {
   "cell_type": "code",
   "execution_count": 23,
   "id": "fe97448a",
   "metadata": {},
   "outputs": [
    {
     "data": {
      "text/plain": [
       "array([18, 25, 11,  9])"
      ]
     },
     "execution_count": 23,
     "metadata": {},
     "output_type": "execute_result"
    }
   ],
   "source": [
    "my_second_array+my_array"
   ]
  },
  {
   "cell_type": "code",
   "execution_count": 28,
   "id": "2914978f",
   "metadata": {},
   "outputs": [
    {
     "data": {
      "text/plain": [
       "array([32, 40, 10,  2,  8,  6])"
      ]
     },
     "execution_count": 28,
     "metadata": {},
     "output_type": "execute_result"
    }
   ],
   "source": [
    "my_third=np.array([32, 40, 10,  2,8,6])\n",
    "my_third"
   ]
  },
  {
   "cell_type": "code",
   "execution_count": 29,
   "id": "73dba07d",
   "metadata": {},
   "outputs": [
    {
     "ename": "ValueError",
     "evalue": "operands could not be broadcast together with shapes (4,) (6,) ",
     "output_type": "error",
     "traceback": [
      "\u001b[0;31m---------------------------------------------------------------------------\u001b[0m",
      "\u001b[0;31mValueError\u001b[0m                                Traceback (most recent call last)",
      "Cell \u001b[0;32mIn[29], line 1\u001b[0m\n\u001b[0;32m----> 1\u001b[0m my_array\u001b[38;5;241m+\u001b[39mmy_third\n",
      "\u001b[0;31mValueError\u001b[0m: operands could not be broadcast together with shapes (4,) (6,) "
     ]
    }
   ],
   "source": [
    "my_array+my_third"
   ]
  },
  {
   "cell_type": "code",
   "execution_count": null,
   "id": "55df4b75",
   "metadata": {},
   "outputs": [],
   "source": [
    "my_reshape=my_third.reshape(3,2)"
   ]
  },
  {
   "cell_type": "code",
   "execution_count": null,
   "id": "682ea789",
   "metadata": {},
   "outputs": [],
   "source": [
    "my_reshape"
   ]
  },
  {
   "cell_type": "code",
   "execution_count": null,
   "id": "636cc167",
   "metadata": {},
   "outputs": [],
   "source": [
    "my_four=np.array([5,8])\n",
    "my_four"
   ]
  },
  {
   "cell_type": "code",
   "execution_count": null,
   "id": "da7e3c4c",
   "metadata": {},
   "outputs": [],
   "source": [
    "my_reshape+my_four"
   ]
  },
  {
   "cell_type": "code",
   "execution_count": null,
   "id": "74c4d50e",
   "metadata": {},
   "outputs": [],
   "source": [
    "my_five=np.array([my_four,my_four,my_four])\n",
    "my_five"
   ]
  },
  {
   "cell_type": "code",
   "execution_count": null,
   "id": "0c3a9180",
   "metadata": {},
   "outputs": [],
   "source": [
    "my_reshape+my_five"
   ]
  },
  {
   "cell_type": "code",
   "execution_count": null,
   "id": "f479ef3a",
   "metadata": {},
   "outputs": [],
   "source": [
    "my_reshape+my_four"
   ]
  },
  {
   "cell_type": "code",
   "execution_count": null,
   "id": "143305ab",
   "metadata": {},
   "outputs": [],
   "source": [
    "my_four"
   ]
  },
  {
   "cell_type": "code",
   "execution_count": null,
   "id": "31b7c9a3",
   "metadata": {},
   "outputs": [],
   "source": [
    "my_reshape"
   ]
  },
  {
   "cell_type": "code",
   "execution_count": null,
   "id": "8c2b4a8f",
   "metadata": {},
   "outputs": [],
   "source": [
    "my_reshape*my_four"
   ]
  },
  {
   "cell_type": "code",
   "execution_count": null,
   "id": "383acac3",
   "metadata": {},
   "outputs": [],
   "source": [
    "arr1 = np.array([[1,2,3],[4,5,6]])"
   ]
  },
  {
   "cell_type": "code",
   "execution_count": null,
   "id": "8cd23a3a",
   "metadata": {},
   "outputs": [],
   "source": [
    "arr1\n"
   ]
  },
  {
   "cell_type": "code",
   "execution_count": null,
   "id": "0adaca15",
   "metadata": {},
   "outputs": [],
   "source": [
    "arr2 = np.array([[7,8,9,10],[11,12,13,14],[15,16,17,18]])"
   ]
  },
  {
   "cell_type": "code",
   "execution_count": null,
   "id": "0647f059",
   "metadata": {},
   "outputs": [],
   "source": [
    "arr2"
   ]
  },
  {
   "cell_type": "code",
   "execution_count": null,
   "id": "0880ab72",
   "metadata": {},
   "outputs": [],
   "source": [
    "np.dot(arr1,arr2)"
   ]
  },
  {
   "cell_type": "code",
   "execution_count": null,
   "id": "3b83886b",
   "metadata": {},
   "outputs": [],
   "source": [
    "my_ones=np.ones(3)"
   ]
  },
  {
   "cell_type": "code",
   "execution_count": null,
   "id": "7c657d63",
   "metadata": {},
   "outputs": [],
   "source": [
    "my_ones"
   ]
  },
  {
   "cell_type": "code",
   "execution_count": null,
   "id": "67b6842b",
   "metadata": {},
   "outputs": [],
   "source": [
    "my_ones=np.ones((3,3))"
   ]
  },
  {
   "cell_type": "code",
   "execution_count": null,
   "id": "d396d974",
   "metadata": {},
   "outputs": [],
   "source": [
    "my_ones"
   ]
  },
  {
   "cell_type": "code",
   "execution_count": null,
   "id": "92f9c8b7",
   "metadata": {},
   "outputs": [],
   "source": [
    "my_zero=np.zeros(3)\n",
    "my_zero"
   ]
  },
  {
   "cell_type": "code",
   "execution_count": null,
   "id": "d5fb9d20",
   "metadata": {},
   "outputs": [],
   "source": [
    "my_zero=np.zeros((3,3))\n",
    "my_zero"
   ]
  },
  {
   "cell_type": "code",
   "execution_count": null,
   "id": "6af48f17",
   "metadata": {},
   "outputs": [],
   "source": [
    "my_zero[0][0]=1"
   ]
  },
  {
   "cell_type": "code",
   "execution_count": null,
   "id": "aad2ff3f",
   "metadata": {},
   "outputs": [],
   "source": [
    "my_zero"
   ]
  },
  {
   "cell_type": "code",
   "execution_count": null,
   "id": "263f0f47",
   "metadata": {},
   "outputs": [],
   "source": [
    "my_zero[1][1]=1\n",
    "my_zero[2][2]=1\n"
   ]
  },
  {
   "cell_type": "code",
   "execution_count": null,
   "id": "f54ccb34",
   "metadata": {},
   "outputs": [],
   "source": [
    "my_zero"
   ]
  },
  {
   "cell_type": "code",
   "execution_count": null,
   "id": "b56ce170",
   "metadata": {},
   "outputs": [],
   "source": [
    "my_eyes=np.eye(3)"
   ]
  },
  {
   "cell_type": "code",
   "execution_count": null,
   "id": "0de5a1bd",
   "metadata": {},
   "outputs": [],
   "source": [
    "my_eyes"
   ]
  },
  {
   "cell_type": "code",
   "execution_count": null,
   "id": "21c19fc5",
   "metadata": {},
   "outputs": [],
   "source": [
    "idf=np.identity(3)"
   ]
  },
  {
   "cell_type": "code",
   "execution_count": null,
   "id": "b2179e45",
   "metadata": {},
   "outputs": [],
   "source": [
    "idf"
   ]
  },
  {
   "cell_type": "code",
   "execution_count": null,
   "id": "812830f5",
   "metadata": {},
   "outputs": [],
   "source": [
    "a =idf[1]"
   ]
  },
  {
   "cell_type": "code",
   "execution_count": null,
   "id": "3f9166a7",
   "metadata": {},
   "outputs": [],
   "source": [
    "a"
   ]
  },
  {
   "cell_type": "code",
   "execution_count": null,
   "id": "38199776",
   "metadata": {},
   "outputs": [],
   "source": [
    "a.shape\n"
   ]
  },
  {
   "cell_type": "code",
   "execution_count": null,
   "id": "a10cf306",
   "metadata": {},
   "outputs": [],
   "source": [
    "b =np.array([[0,1,0]])"
   ]
  },
  {
   "cell_type": "code",
   "execution_count": null,
   "id": "50984989",
   "metadata": {},
   "outputs": [],
   "source": [
    "b\n"
   ]
  },
  {
   "cell_type": "code",
   "execution_count": null,
   "id": "ae54b977",
   "metadata": {},
   "outputs": [],
   "source": [
    "b.shape"
   ]
  },
  {
   "cell_type": "code",
   "execution_count": null,
   "id": "f44bfd9a",
   "metadata": {},
   "outputs": [],
   "source": [
    "a"
   ]
  },
  {
   "cell_type": "code",
   "execution_count": null,
   "id": "5feb6dfc",
   "metadata": {},
   "outputs": [],
   "source": [
    "a.T"
   ]
  },
  {
   "cell_type": "code",
   "execution_count": null,
   "id": "5bc040c2",
   "metadata": {},
   "outputs": [],
   "source": [
    "b.T.shape"
   ]
  },
  {
   "cell_type": "code",
   "execution_count": null,
   "id": "7bdf9891",
   "metadata": {},
   "outputs": [],
   "source": [
    "b"
   ]
  },
  {
   "cell_type": "code",
   "execution_count": null,
   "id": "7508fbbf",
   "metadata": {},
   "outputs": [],
   "source": [
    "b.ndim"
   ]
  },
  {
   "cell_type": "code",
   "execution_count": null,
   "id": "142c4c9c",
   "metadata": {},
   "outputs": [],
   "source": [
    "a.ndim"
   ]
  },
  {
   "cell_type": "code",
   "execution_count": null,
   "id": "70d0d23f",
   "metadata": {},
   "outputs": [],
   "source": [
    "a.size"
   ]
  },
  {
   "cell_type": "code",
   "execution_count": null,
   "id": "9d07e85c",
   "metadata": {},
   "outputs": [],
   "source": [
    "b.size"
   ]
  },
  {
   "cell_type": "code",
   "execution_count": null,
   "id": "7b9dc25b",
   "metadata": {},
   "outputs": [],
   "source": [
    "arr1 = np.array([[1,2,3],[4,5,6]])\n",
    "arr2 = np.array([[-1,-3],[1,4],[-2,6\n",
    "                               \n",
    "                               \n",
    "                               ]])"
   ]
  },
  {
   "cell_type": "code",
   "execution_count": null,
   "id": "c56fd521",
   "metadata": {},
   "outputs": [],
   "source": [
    "arr1.dot(arr2\n",
    "        )"
   ]
  },
  {
   "cell_type": "code",
   "execution_count": null,
   "id": "7304fe5d",
   "metadata": {},
   "outputs": [],
   "source": [
    " y = a*X + b"
   ]
  },
  {
   "cell_type": "code",
   "execution_count": null,
   "id": "aef7a91a",
   "metadata": {},
   "outputs": [],
   "source": [
    "X=2+np.random.rand(1000,1) #generer des valeurs aléatoire\n",
    "y=3+4*X+np.random.randn(1000,1)"
   ]
  },
  {
   "cell_type": "code",
   "execution_count": null,
   "id": "00e05009",
   "metadata": {},
   "outputs": [],
   "source": [
    "X"
   ]
  },
  {
   "cell_type": "code",
   "execution_count": null,
   "id": "2d0ce5aa",
   "metadata": {},
   "outputs": [],
   "source": [
    "y"
   ]
  },
  {
   "cell_type": "code",
   "execution_count": null,
   "id": "7303e3ab",
   "metadata": {},
   "outputs": [],
   "source": [
    "plt.scatter(X,y)"
   ]
  },
  {
   "cell_type": "code",
   "execution_count": null,
   "id": "5cb958e1",
   "metadata": {},
   "outputs": [],
   "source": [
    "arr1=np.array([1,2,3])\n",
    "arr2=np.array([4,5,6])"
   ]
  },
  {
   "cell_type": "code",
   "execution_count": null,
   "id": "9f01bd20",
   "metadata": {},
   "outputs": [],
   "source": [
    "result=np.c_[arr1,arr2]"
   ]
  },
  {
   "cell_type": "code",
   "execution_count": null,
   "id": "10183eda",
   "metadata": {},
   "outputs": [],
   "source": [
    "result"
   ]
  },
  {
   "cell_type": "code",
   "execution_count": null,
   "id": "b060046e",
   "metadata": {},
   "outputs": [],
   "source": [
    "X_b=np.c_[np.ones((1000,1)),X]\n",
    "X_b"
   ]
  },
  {
   "cell_type": "code",
   "execution_count": null,
   "id": "41c8223a",
   "metadata": {},
   "outputs": [],
   "source": [
    "theta_best=np.linalg.inv(X_b.T.dot(X_b)).dot(X_b.T).dot(y)\n",
    "theta_best"
   ]
  },
  {
   "cell_type": "code",
   "execution_count": null,
   "id": "2887823e",
   "metadata": {},
   "outputs": [],
   "source": [
    "X_new=np.array([[0],[2]])\n",
    "X_new_b=np.c_[np.ones((2,1)),X_new]"
   ]
  },
  {
   "cell_type": "code",
   "execution_count": null,
   "id": "67139aff",
   "metadata": {},
   "outputs": [],
   "source": [
    "y_pred=X_new_b.dot(theta_best)"
   ]
  },
  {
   "cell_type": "code",
   "execution_count": null,
   "id": "1ff10b74",
   "metadata": {},
   "outputs": [],
   "source": [
    "y_pred"
   ]
  },
  {
   "cell_type": "code",
   "execution_count": null,
   "id": "115fef50",
   "metadata": {},
   "outputs": [],
   "source": [
    "plt.plot(X_new,y_pred,\"r-\")\n",
    "plt.plot(X,y,\"b.\")\n"
   ]
  },
  {
   "cell_type": "code",
   "execution_count": null,
   "id": "3691f7a2",
   "metadata": {},
   "outputs": [],
   "source": []
  },
  {
   "cell_type": "code",
   "execution_count": null,
   "id": "d912b4a4",
   "metadata": {},
   "outputs": [],
   "source": []
  }
 ],
 "metadata": {
  "kernelspec": {
   "display_name": "Python 3 (ipykernel)",
   "language": "python",
   "name": "python3"
  },
  "language_info": {
   "codemirror_mode": {
    "name": "ipython",
    "version": 3
   },
   "file_extension": ".py",
   "mimetype": "text/x-python",
   "name": "python",
   "nbconvert_exporter": "python",
   "pygments_lexer": "ipython3",
   "version": "3.11.5"
  }
 },
 "nbformat": 4,
 "nbformat_minor": 5
}
